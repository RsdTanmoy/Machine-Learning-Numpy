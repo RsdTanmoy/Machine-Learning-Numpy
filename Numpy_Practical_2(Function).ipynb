{
  "nbformat": 4,
  "nbformat_minor": 0,
  "metadata": {
    "colab": {
      "name": "Numpy Practical_2(Function).ipynb",
      "provenance": [],
      "collapsed_sections": [],
      "authorship_tag": "ABX9TyOMzXdjki+3LfbImjDOcc13",
      "include_colab_link": true
    },
    "kernelspec": {
      "name": "python3",
      "display_name": "Python 3"
    }
  },
  "cells": [
    {
      "cell_type": "markdown",
      "metadata": {
        "id": "view-in-github",
        "colab_type": "text"
      },
      "source": [
        "<a href=\"https://colab.research.google.com/github/RsdTanmoy/Machine-Learning-Numpy/blob/main/Numpy_Practical_2(Function).ipynb\" target=\"_parent\"><img src=\"https://colab.research.google.com/assets/colab-badge.svg\" alt=\"Open In Colab\"/></a>"
      ]
    },
    {
      "cell_type": "markdown",
      "metadata": {
        "id": "viVqVohpVJJd"
      },
      "source": [
        "**np.ones() Python NumPy Function**"
      ]
    },
    {
      "cell_type": "code",
      "metadata": {
        "id": "_XidisvMasvf"
      },
      "source": [
        "import numpy as np"
      ],
      "execution_count": null,
      "outputs": []
    },
    {
      "cell_type": "code",
      "metadata": {
        "colab": {
          "base_uri": "https://localhost:8080/"
        },
        "id": "9Ia6ZQ2Qa06D",
        "outputId": "da6010c3-b280-4b73-a618-1435d89a1bdc"
      },
      "source": [
        "mx_1s = np.array([[1,1,1],[1,1,1],[1,1,1]])\r\n",
        "print(mx_1s)"
      ],
      "execution_count": null,
      "outputs": [
        {
          "output_type": "stream",
          "text": [
            "[[1 1 1]\n",
            " [1 1 1]\n",
            " [1 1 1]]\n"
          ],
          "name": "stdout"
        }
      ]
    },
    {
      "cell_type": "code",
      "metadata": {
        "colab": {
          "base_uri": "https://localhost:8080/"
        },
        "id": "S_dt4QCdbshg",
        "outputId": "33de0bde-6175-44b5-94d7-d99486f9f666"
      },
      "source": [
        "mat_1s = np.ones(5)\r\n",
        "print(mat_1s)"
      ],
      "execution_count": null,
      "outputs": [
        {
          "output_type": "stream",
          "text": [
            "[1. 1. 1. 1. 1.]\n"
          ],
          "name": "stdout"
        }
      ]
    },
    {
      "cell_type": "code",
      "metadata": {
        "colab": {
          "base_uri": "https://localhost:8080/"
        },
        "id": "OwYv8WAJciI3",
        "outputId": "cdd6117d-0a5a-421b-abd6-110feb80a9e3"
      },
      "source": [
        "mat_1s.dtype"
      ],
      "execution_count": null,
      "outputs": [
        {
          "output_type": "execute_result",
          "data": {
            "text/plain": [
              "dtype('float64')"
            ]
          },
          "metadata": {
            "tags": []
          },
          "execution_count": 5
        }
      ]
    },
    {
      "cell_type": "code",
      "metadata": {
        "colab": {
          "base_uri": "https://localhost:8080/"
        },
        "id": "n5lSwu_ncq1r",
        "outputId": "b9319abd-ad4d-4c58-e186-611630ee8c73"
      },
      "source": [
        "matrix_1s = np.ones((3,4))\r\n",
        "print(matrix_1s)"
      ],
      "execution_count": null,
      "outputs": [
        {
          "output_type": "stream",
          "text": [
            "[[1. 1. 1. 1.]\n",
            " [1. 1. 1. 1.]\n",
            " [1. 1. 1. 1.]]\n"
          ],
          "name": "stdout"
        }
      ]
    },
    {
      "cell_type": "code",
      "metadata": {
        "colab": {
          "base_uri": "https://localhost:8080/"
        },
        "id": "tiW3FGEbc88N",
        "outputId": "5fa93e0b-2782-4acd-f170-d74d993e01ab"
      },
      "source": [
        "mat_1s = np.ones((3,4), dtype= int)\r\n",
        "print(mat_1s)"
      ],
      "execution_count": null,
      "outputs": [
        {
          "output_type": "stream",
          "text": [
            "[[1 1 1 1]\n",
            " [1 1 1 1]\n",
            " [1 1 1 1]]\n"
          ],
          "name": "stdout"
        }
      ]
    },
    {
      "cell_type": "markdown",
      "metadata": {
        "id": "0tJmisKPVRli"
      },
      "source": [
        "**np.zeros() Python NumPy Function**"
      ]
    },
    {
      "cell_type": "code",
      "metadata": {
        "colab": {
          "base_uri": "https://localhost:8080/"
        },
        "id": "7X11-3ETd19v",
        "outputId": "be7e90ee-2f44-446b-c97e-ebdcfb8d8826"
      },
      "source": [
        "mx_0s = np.zeros((3,4))\r\n",
        "print(mx_0s)"
      ],
      "execution_count": null,
      "outputs": [
        {
          "output_type": "stream",
          "text": [
            "[[0. 0. 0. 0.]\n",
            " [0. 0. 0. 0.]\n",
            " [0. 0. 0. 0.]]\n"
          ],
          "name": "stdout"
        }
      ]
    },
    {
      "cell_type": "code",
      "metadata": {
        "colab": {
          "base_uri": "https://localhost:8080/"
        },
        "id": "2WYwtJMieQvV",
        "outputId": "7cb69d36-8e0b-4c9b-dac8-e7a784db599c"
      },
      "source": [
        "mat_0s = np.zeros((3,4), dtype= int)\r\n",
        "print(mat_0s)"
      ],
      "execution_count": null,
      "outputs": [
        {
          "output_type": "stream",
          "text": [
            "[[0 0 0 0]\n",
            " [0 0 0 0]\n",
            " [0 0 0 0]]\n"
          ],
          "name": "stdout"
        }
      ]
    },
    {
      "cell_type": "code",
      "metadata": {
        "colab": {
          "base_uri": "https://localhost:8080/"
        },
        "id": "Mf0GtXTceeyG",
        "outputId": "761b40dd-7e46-4d10-d84f-b06a2f1ace86"
      },
      "source": [
        "mat_0s = np.zeros((3,4), dtype= bool)\r\n",
        "print(mat_0s)"
      ],
      "execution_count": null,
      "outputs": [
        {
          "output_type": "stream",
          "text": [
            "[[False False False False]\n",
            " [False False False False]\n",
            " [False False False False]]\n"
          ],
          "name": "stdout"
        }
      ]
    },
    {
      "cell_type": "markdown",
      "metadata": {
        "id": "OC7CHzCBVbxa"
      },
      "source": [
        "**np.empty() Python NumPy Function**"
      ]
    },
    {
      "cell_type": "code",
      "metadata": {
        "colab": {
          "base_uri": "https://localhost:8080/"
        },
        "id": "sF-UqODAeyGe",
        "outputId": "4efe10ea-6af5-4854-afda-3d97a5edba6c"
      },
      "source": [
        "mat_0s = np.zeros((3,4), dtype= str)\r\n",
        "print(mat_0s)"
      ],
      "execution_count": null,
      "outputs": [
        {
          "output_type": "stream",
          "text": [
            "[['' '' '' '']\n",
            " ['' '' '' '']\n",
            " ['' '' '' '']]\n"
          ],
          "name": "stdout"
        }
      ]
    },
    {
      "cell_type": "code",
      "metadata": {
        "colab": {
          "base_uri": "https://localhost:8080/"
        },
        "id": "fBuIaikHezjk",
        "outputId": "7bae0fc1-091f-452c-f146-bbec4e1c7cac"
      },
      "source": [
        "em_str=''\r\n",
        "print(bool(em_str))"
      ],
      "execution_count": null,
      "outputs": [
        {
          "output_type": "stream",
          "text": [
            "False\n"
          ],
          "name": "stdout"
        }
      ]
    },
    {
      "cell_type": "code",
      "metadata": {
        "id": "t220CFa9ezk7"
      },
      "source": [
        ""
      ],
      "execution_count": null,
      "outputs": []
    }
  ]
}