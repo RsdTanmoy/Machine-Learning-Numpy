{
  "nbformat": 4,
  "nbformat_minor": 0,
  "metadata": {
    "colab": {
      "name": "Numpy Practical_9(string Operations).ipynb",
      "provenance": [],
      "collapsed_sections": [],
      "authorship_tag": "ABX9TyOH5QbtXa5s+tTS43w2gYFa",
      "include_colab_link": true
    },
    "kernelspec": {
      "name": "python3",
      "display_name": "Python 3"
    }
  },
  "cells": [
    {
      "cell_type": "markdown",
      "metadata": {
        "id": "view-in-github",
        "colab_type": "text"
      },
      "source": [
        "<a href=\"https://colab.research.google.com/github/RsdTanmoy/Machine-Learning-Numpy/blob/main/Numpy_Practical_9(string_Operations).ipynb\" target=\"_parent\"><img src=\"https://colab.research.google.com/assets/colab-badge.svg\" alt=\"Open In Colab\"/></a>"
      ]
    },
    {
      "cell_type": "markdown",
      "metadata": {
        "id": "acWywz6hqb_k"
      },
      "source": [
        "**Numpy String Operation, Comparison and Information**"
      ]
    },
    {
      "cell_type": "code",
      "metadata": {
        "id": "WsULlBuCqmG1"
      },
      "source": [
        "import numpy as np"
      ],
      "execution_count": null,
      "outputs": []
    },
    {
      "cell_type": "code",
      "metadata": {
        "id": "2PbOVBV1qoan"
      },
      "source": [
        "ch_name=\"My AI Production\"\r\n",
        "str1=\"Learning Python Numpy\""
      ],
      "execution_count": null,
      "outputs": []
    },
    {
      "cell_type": "markdown",
      "metadata": {
        "id": "wQBvt3W0bQK2"
      },
      "source": [
        "**np.char.add()**"
      ]
    },
    {
      "cell_type": "code",
      "metadata": {
        "colab": {
          "base_uri": "https://localhost:8080/"
        },
        "id": "INbE4Y9br9AT",
        "outputId": "cb1922b0-e0f1-4218-edbc-b3f42a3df34e"
      },
      "source": [
        "np.char.add(ch_name, str1)"
      ],
      "execution_count": null,
      "outputs": [
        {
          "output_type": "execute_result",
          "data": {
            "text/plain": [
              "array('My AI ProductionLearning Python Numpy', dtype='<U37')"
            ]
          },
          "metadata": {
            "tags": []
          },
          "execution_count": 19
        }
      ]
    },
    {
      "cell_type": "markdown",
      "metadata": {
        "id": "0TNnDdWfbXQV"
      },
      "source": [
        "**np.char.lower()**"
      ]
    },
    {
      "cell_type": "code",
      "metadata": {
        "colab": {
          "base_uri": "https://localhost:8080/"
        },
        "id": "iqGubbTOsSS-",
        "outputId": "ac2275dd-ec4a-47c5-8ebe-c435b006ea7e"
      },
      "source": [
        "np.char.lower(ch_name)"
      ],
      "execution_count": null,
      "outputs": [
        {
          "output_type": "execute_result",
          "data": {
            "text/plain": [
              "array('my ai production', dtype='<U16')"
            ]
          },
          "metadata": {
            "tags": []
          },
          "execution_count": 20
        }
      ]
    },
    {
      "cell_type": "markdown",
      "metadata": {
        "id": "AjUfhi67bbk1"
      },
      "source": [
        "**np.char.upper()**"
      ]
    },
    {
      "cell_type": "code",
      "metadata": {
        "colab": {
          "base_uri": "https://localhost:8080/"
        },
        "id": "Iv8QcG0dsvxZ",
        "outputId": "995a821b-75d9-48ca-a1e0-7770516a4105"
      },
      "source": [
        "np.char.upper(ch_name)"
      ],
      "execution_count": null,
      "outputs": [
        {
          "output_type": "execute_result",
          "data": {
            "text/plain": [
              "array('MY AI PRODUCTION', dtype='<U16')"
            ]
          },
          "metadata": {
            "tags": []
          },
          "execution_count": 21
        }
      ]
    },
    {
      "cell_type": "markdown",
      "metadata": {
        "id": "WWMHe7E8bg9M"
      },
      "source": [
        "**np.char.center()**"
      ]
    },
    {
      "cell_type": "code",
      "metadata": {
        "colab": {
          "base_uri": "https://localhost:8080/"
        },
        "id": "FyemKbQas_xv",
        "outputId": "619e6d6d-c8d4-4b73-9d8c-9e9849b9cc78"
      },
      "source": [
        "np.char.center(ch_name,60)"
      ],
      "execution_count": null,
      "outputs": [
        {
          "output_type": "execute_result",
          "data": {
            "text/plain": [
              "array('                      My AI Production                      ',\n",
              "      dtype='<U60')"
            ]
          },
          "metadata": {
            "tags": []
          },
          "execution_count": 22
        }
      ]
    },
    {
      "cell_type": "code",
      "metadata": {
        "colab": {
          "base_uri": "https://localhost:8080/"
        },
        "id": "fMFaZk6BtYcZ",
        "outputId": "d989c3de-5a05-4aa2-c1ff-3165142f1a11"
      },
      "source": [
        "np.char.center(ch_name,60, fillchar=\"*\")"
      ],
      "execution_count": null,
      "outputs": [
        {
          "output_type": "execute_result",
          "data": {
            "text/plain": [
              "array('**********************My AI Production**********************',\n",
              "      dtype='<U60')"
            ]
          },
          "metadata": {
            "tags": []
          },
          "execution_count": 23
        }
      ]
    },
    {
      "cell_type": "markdown",
      "metadata": {
        "id": "4xd1CZ-Ubpks"
      },
      "source": [
        "**np.char.split()**"
      ]
    },
    {
      "cell_type": "code",
      "metadata": {
        "colab": {
          "base_uri": "https://localhost:8080/"
        },
        "id": "ZUHbRxG8teqE",
        "outputId": "96b15800-8c14-4267-abca-363f96e74313"
      },
      "source": [
        "np.char.split(ch_name)"
      ],
      "execution_count": null,
      "outputs": [
        {
          "output_type": "execute_result",
          "data": {
            "text/plain": [
              "array(list(['My', 'AI', 'Production']), dtype=object)"
            ]
          },
          "metadata": {
            "tags": []
          },
          "execution_count": 24
        }
      ]
    },
    {
      "cell_type": "markdown",
      "metadata": {
        "id": "_6SqbaIfbvak"
      },
      "source": [
        "**np.char.splitlines()**"
      ]
    },
    {
      "cell_type": "code",
      "metadata": {
        "colab": {
          "base_uri": "https://localhost:8080/"
        },
        "id": "lvPSy5QYt466",
        "outputId": "741ca32c-6822-4f95-aac1-e56c9e338ba4"
      },
      "source": [
        "np.char.splitlines(\"Hello\\nEngineers\")"
      ],
      "execution_count": null,
      "outputs": [
        {
          "output_type": "execute_result",
          "data": {
            "text/plain": [
              "array(list(['Hello', 'Engineers']), dtype=object)"
            ]
          },
          "metadata": {
            "tags": []
          },
          "execution_count": 33
        }
      ]
    },
    {
      "cell_type": "markdown",
      "metadata": {
        "id": "a-KUmZlAb5AE"
      },
      "source": [
        "**np.char.join()**"
      ]
    },
    {
      "cell_type": "code",
      "metadata": {
        "colab": {
          "base_uri": "https://localhost:8080/"
        },
        "id": "YhWAmbix2k7k",
        "outputId": "c7459af2-e41b-4af8-daa6-c56fcaf17a60"
      },
      "source": [
        "str2=\"dmy\"\r\n",
        "str3=\"dmy\"\r\n",
        "np.char.join([\":\",\"/\"],(str2,str3))"
      ],
      "execution_count": null,
      "outputs": [
        {
          "output_type": "execute_result",
          "data": {
            "text/plain": [
              "array(['d:m:y', 'd/m/y'], dtype='<U5')"
            ]
          },
          "metadata": {
            "tags": []
          },
          "execution_count": 26
        }
      ]
    },
    {
      "cell_type": "markdown",
      "metadata": {
        "id": "2rG1hUxRb_JE"
      },
      "source": [
        "**np.char.replace()**"
      ]
    },
    {
      "cell_type": "code",
      "metadata": {
        "colab": {
          "base_uri": "https://localhost:8080/"
        },
        "id": "FtaRZmOr3IVm",
        "outputId": "debe16cf-22f4-4c16-c9c8-1396c99eb97b"
      },
      "source": [
        "np.char.replace(ch_name,\"AI\", \"Artificial Intelligence\")"
      ],
      "execution_count": null,
      "outputs": [
        {
          "output_type": "execute_result",
          "data": {
            "text/plain": [
              "array('My Artificial Intelligence Production', dtype='<U37')"
            ]
          },
          "metadata": {
            "tags": []
          },
          "execution_count": 34
        }
      ]
    },
    {
      "cell_type": "markdown",
      "metadata": {
        "id": "DkiS5f5KcDD0"
      },
      "source": [
        "**np.char.equal()**"
      ]
    },
    {
      "cell_type": "code",
      "metadata": {
        "colab": {
          "base_uri": "https://localhost:8080/"
        },
        "id": "zhx0jywq3oTC",
        "outputId": "7f4127ea-fbc9-4fb7-aa29-af9b76c09d13"
      },
      "source": [
        "np.char.equal(str2,str3)"
      ],
      "execution_count": null,
      "outputs": [
        {
          "output_type": "execute_result",
          "data": {
            "text/plain": [
              "array(True)"
            ]
          },
          "metadata": {
            "tags": []
          },
          "execution_count": 28
        }
      ]
    },
    {
      "cell_type": "markdown",
      "metadata": {
        "id": "IgcEO0htcMOj"
      },
      "source": [
        "**np.char.count()**"
      ]
    },
    {
      "cell_type": "code",
      "metadata": {
        "colab": {
          "base_uri": "https://localhost:8080/",
          "height": 35
        },
        "id": "iw3d70go38mJ",
        "outputId": "719f891b-933a-45f5-e221-26996a2e54a9"
      },
      "source": [
        "ch_name"
      ],
      "execution_count": null,
      "outputs": [
        {
          "output_type": "execute_result",
          "data": {
            "application/vnd.google.colaboratory.intrinsic+json": {
              "type": "string"
            },
            "text/plain": [
              "'My AI Production'"
            ]
          },
          "metadata": {
            "tags": []
          },
          "execution_count": 29
        }
      ]
    },
    {
      "cell_type": "code",
      "metadata": {
        "colab": {
          "base_uri": "https://localhost:8080/"
        },
        "id": "hrhxozmf4NE_",
        "outputId": "cfdad9cf-72fb-4f92-8fd8-6d9dbf766897"
      },
      "source": [
        "np.char.count(ch_name,\"a\")"
      ],
      "execution_count": null,
      "outputs": [
        {
          "output_type": "execute_result",
          "data": {
            "text/plain": [
              "array(0)"
            ]
          },
          "metadata": {
            "tags": []
          },
          "execution_count": 30
        }
      ]
    },
    {
      "cell_type": "code",
      "metadata": {
        "colab": {
          "base_uri": "https://localhost:8080/"
        },
        "id": "hFr8xepK4R6e",
        "outputId": "965b5e8d-d003-4877-f957-caa5b9973400"
      },
      "source": [
        "np.char.count(ch_name,\"o\")"
      ],
      "execution_count": null,
      "outputs": [
        {
          "output_type": "execute_result",
          "data": {
            "text/plain": [
              "array(2)"
            ]
          },
          "metadata": {
            "tags": []
          },
          "execution_count": 31
        }
      ]
    },
    {
      "cell_type": "markdown",
      "metadata": {
        "id": "AUwwyPsTcQJi"
      },
      "source": [
        "**np.char.find()**"
      ]
    },
    {
      "cell_type": "code",
      "metadata": {
        "colab": {
          "base_uri": "https://localhost:8080/"
        },
        "id": "rWMVNTIl4Vzb",
        "outputId": "27f5dc2f-a394-4147-fc07-c15db110bd0a"
      },
      "source": [
        "np.char.find(ch_name,\"AI\")"
      ],
      "execution_count": null,
      "outputs": [
        {
          "output_type": "execute_result",
          "data": {
            "text/plain": [
              "array(3)"
            ]
          },
          "metadata": {
            "tags": []
          },
          "execution_count": 32
        }
      ]
    },
    {
      "cell_type": "code",
      "metadata": {
        "id": "FIbXY06M4nwg"
      },
      "source": [
        ""
      ],
      "execution_count": null,
      "outputs": []
    }
  ]
}