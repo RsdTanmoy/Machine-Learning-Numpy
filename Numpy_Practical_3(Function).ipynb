{
  "nbformat": 4,
  "nbformat_minor": 0,
  "metadata": {
    "colab": {
      "name": "Numpy Practical_3(Function).ipynb",
      "provenance": [],
      "collapsed_sections": [],
      "authorship_tag": "ABX9TyONSbXvcbEpwbSuLhdOJx/4",
      "include_colab_link": true
    },
    "kernelspec": {
      "name": "python3",
      "display_name": "Python 3"
    }
  },
  "cells": [
    {
      "cell_type": "markdown",
      "metadata": {
        "id": "view-in-github",
        "colab_type": "text"
      },
      "source": [
        "<a href=\"https://colab.research.google.com/github/RsdTanmoy/Machine-Learning-Numpy/blob/main/Numpy_Practical_3(Function).ipynb\" target=\"_parent\"><img src=\"https://colab.research.google.com/assets/colab-badge.svg\" alt=\"Open In Colab\"/></a>"
      ]
    },
    {
      "cell_type": "markdown",
      "metadata": {
        "id": "HYIi7PnKVq3G"
      },
      "source": [
        "**np.arange() Python NumPy Function**"
      ]
    },
    {
      "cell_type": "code",
      "metadata": {
        "id": "QYVOhmBPikq7"
      },
      "source": [
        "import numpy as np"
      ],
      "execution_count": null,
      "outputs": []
    },
    {
      "cell_type": "code",
      "metadata": {
        "colab": {
          "base_uri": "https://localhost:8080/"
        },
        "id": "FUulxQEairn-",
        "outputId": "57e360ce-be81-4611-fd5e-8f1a5dd54329"
      },
      "source": [
        "arr_1d = np.arange(1,13)\r\n",
        "print(arr_1d)"
      ],
      "execution_count": null,
      "outputs": [
        {
          "output_type": "stream",
          "text": [
            "[ 1  2  3  4  5  6  7  8  9 10 11 12]\n"
          ],
          "name": "stdout"
        }
      ]
    },
    {
      "cell_type": "code",
      "metadata": {
        "colab": {
          "base_uri": "https://localhost:8080/"
        },
        "id": "RegF_filjYu5",
        "outputId": "78d2818a-db52-42c3-c8c3-02874b0dafb0"
      },
      "source": [
        "arr_1d = np.arange(1,13,2)\r\n",
        "print(arr_1d)"
      ],
      "execution_count": null,
      "outputs": [
        {
          "output_type": "stream",
          "text": [
            "[ 1  3  5  7  9 11]\n"
          ],
          "name": "stdout"
        }
      ]
    },
    {
      "cell_type": "markdown",
      "metadata": {
        "id": "ZTyrMxFTVzoQ"
      },
      "source": [
        "**np.linspace() Python NumPy Function**"
      ]
    },
    {
      "cell_type": "code",
      "metadata": {
        "colab": {
          "base_uri": "https://localhost:8080/"
        },
        "id": "qhr6P4ABjcyM",
        "outputId": "357618d9-ac51-45b5-d466-d4bfbf107b67"
      },
      "source": [
        "np.linspace(1,5,4)"
      ],
      "execution_count": null,
      "outputs": [
        {
          "output_type": "execute_result",
          "data": {
            "text/plain": [
              "array([1.        , 2.33333333, 3.66666667, 5.        ])"
            ]
          },
          "metadata": {
            "tags": []
          },
          "execution_count": 6
        }
      ]
    },
    {
      "cell_type": "code",
      "metadata": {
        "colab": {
          "base_uri": "https://localhost:8080/"
        },
        "id": "MTwNt97llXpp",
        "outputId": "2a1ee996-676e-42ff-f578-65bca0d51c5d"
      },
      "source": [
        "ar_1d = np.arange(1,13)\r\n",
        "print(ar_1d)"
      ],
      "execution_count": null,
      "outputs": [
        {
          "output_type": "stream",
          "text": [
            "[ 1  2  3  4  5  6  7  8  9 10 11 12]\n"
          ],
          "name": "stdout"
        }
      ]
    },
    {
      "cell_type": "markdown",
      "metadata": {
        "id": "JM5ZB8e0V4PU"
      },
      "source": [
        "**np.reshape() Python NumPy Function**"
      ]
    },
    {
      "cell_type": "code",
      "metadata": {
        "colab": {
          "base_uri": "https://localhost:8080/"
        },
        "id": "b_JpyX-Akgm5",
        "outputId": "cd488819-d189-44f9-f498-c5c2895792c0"
      },
      "source": [
        "arr_2d = ar_1d.reshape(2,6)\r\n",
        "print(arr_2d)"
      ],
      "execution_count": null,
      "outputs": [
        {
          "output_type": "stream",
          "text": [
            "[[ 1  2  3  4  5  6]\n",
            " [ 7  8  9 10 11 12]]\n"
          ],
          "name": "stdout"
        }
      ]
    },
    {
      "cell_type": "code",
      "metadata": {
        "colab": {
          "base_uri": "https://localhost:8080/"
        },
        "id": "d5ClcuodlNhR",
        "outputId": "d5eae233-2d7e-44e8-d290-0dcfb062fb08"
      },
      "source": [
        "arr_2d = ar_1d.reshape(3,4)\r\n",
        "print(arr_2d)"
      ],
      "execution_count": null,
      "outputs": [
        {
          "output_type": "stream",
          "text": [
            "[[ 1  2  3  4]\n",
            " [ 5  6  7  8]\n",
            " [ 9 10 11 12]]\n"
          ],
          "name": "stdout"
        }
      ]
    },
    {
      "cell_type": "code",
      "metadata": {
        "colab": {
          "base_uri": "https://localhost:8080/"
        },
        "id": "ItSpOYKAlj5S",
        "outputId": "ef560454-88d2-4f70-a803-bcb820a9e202"
      },
      "source": [
        "arr_3d = ar_1d.reshape(2,3,2)\r\n",
        "print(arr_3d)"
      ],
      "execution_count": null,
      "outputs": [
        {
          "output_type": "stream",
          "text": [
            "[[[ 1  2]\n",
            "  [ 3  4]\n",
            "  [ 5  6]]\n",
            "\n",
            " [[ 7  8]\n",
            "  [ 9 10]\n",
            "  [11 12]]]\n"
          ],
          "name": "stdout"
        }
      ]
    },
    {
      "cell_type": "code",
      "metadata": {
        "colab": {
          "base_uri": "https://localhost:8080/"
        },
        "id": "KXjYZhrrmdvO",
        "outputId": "ac70cc01-0493-4798-849f-b710c415ba78"
      },
      "source": [
        "a_3d = np.arange(1,13).reshape(2,6)\r\n",
        "print(a_3d)"
      ],
      "execution_count": null,
      "outputs": [
        {
          "output_type": "stream",
          "text": [
            "[[ 1  2  3  4  5  6]\n",
            " [ 7  8  9 10 11 12]]\n"
          ],
          "name": "stdout"
        }
      ]
    },
    {
      "cell_type": "markdown",
      "metadata": {
        "id": "NWU0k-BgV9KK"
      },
      "source": [
        "**np.ravel() Python NumPy Function**"
      ]
    },
    {
      "cell_type": "code",
      "metadata": {
        "colab": {
          "base_uri": "https://localhost:8080/"
        },
        "id": "FYjGPitYm-RX",
        "outputId": "8d267131-765e-48d6-82dd-a75f248877c6"
      },
      "source": [
        "a_3d.ravel()"
      ],
      "execution_count": null,
      "outputs": [
        {
          "output_type": "execute_result",
          "data": {
            "text/plain": [
              "array([ 1,  2,  3,  4,  5,  6,  7,  8,  9, 10, 11, 12])"
            ]
          },
          "metadata": {
            "tags": []
          },
          "execution_count": 14
        }
      ]
    },
    {
      "cell_type": "markdown",
      "metadata": {
        "id": "phYumcOQWCaQ"
      },
      "source": [
        "**np.flatten() Python NumPy Function**"
      ]
    },
    {
      "cell_type": "code",
      "metadata": {
        "colab": {
          "base_uri": "https://localhost:8080/"
        },
        "id": "AbtFrO4UnL8W",
        "outputId": "937021a2-9ea8-410f-8ce5-9d5f4a9ad664"
      },
      "source": [
        "a_3d.flatten()"
      ],
      "execution_count": null,
      "outputs": [
        {
          "output_type": "execute_result",
          "data": {
            "text/plain": [
              "array([ 1,  2,  3,  4,  5,  6,  7,  8,  9, 10, 11, 12])"
            ]
          },
          "metadata": {
            "tags": []
          },
          "execution_count": 15
        }
      ]
    },
    {
      "cell_type": "markdown",
      "metadata": {
        "id": "1UsvzA0UWJso"
      },
      "source": [
        "**np.transpose() Python NumPy Function**"
      ]
    },
    {
      "cell_type": "code",
      "metadata": {
        "colab": {
          "base_uri": "https://localhost:8080/"
        },
        "id": "kUMcHXcinVcu",
        "outputId": "bd7412ba-a601-4a0b-ec89-fb3c033ca329"
      },
      "source": [
        "a_3d.transpose()"
      ],
      "execution_count": null,
      "outputs": [
        {
          "output_type": "execute_result",
          "data": {
            "text/plain": [
              "array([[ 1,  7],\n",
              "       [ 2,  8],\n",
              "       [ 3,  9],\n",
              "       [ 4, 10],\n",
              "       [ 5, 11],\n",
              "       [ 6, 12]])"
            ]
          },
          "metadata": {
            "tags": []
          },
          "execution_count": 16
        }
      ]
    },
    {
      "cell_type": "code",
      "metadata": {
        "id": "KREyTZSSn3LV"
      },
      "source": [
        ""
      ],
      "execution_count": null,
      "outputs": []
    }
  ]
}