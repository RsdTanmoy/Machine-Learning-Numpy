{
  "nbformat": 4,
  "nbformat_minor": 0,
  "metadata": {
    "colab": {
      "name": "Numpy Practical_8(random sampling).ipynb",
      "provenance": [],
      "collapsed_sections": [],
      "authorship_tag": "ABX9TyNdkDii+igG23mpOt0ai+4t",
      "include_colab_link": true
    },
    "kernelspec": {
      "name": "python3",
      "display_name": "Python 3"
    }
  },
  "cells": [
    {
      "cell_type": "markdown",
      "metadata": {
        "id": "view-in-github",
        "colab_type": "text"
      },
      "source": [
        "<a href=\"https://colab.research.google.com/github/RsdTanmoy/Machine-Learning-Numpy/blob/main/Numpy_Practical_8(random_sampling).ipynb\" target=\"_parent\"><img src=\"https://colab.research.google.com/assets/colab-badge.svg\" alt=\"Open In Colab\"/></a>"
      ]
    },
    {
      "cell_type": "markdown",
      "metadata": {
        "id": "tqfy17YvjbwX"
      },
      "source": [
        "**Random Sampling With Numpy**"
      ]
    },
    {
      "cell_type": "code",
      "metadata": {
        "id": "Lixe-hCijPK_"
      },
      "source": [
        "import numpy as np"
      ],
      "execution_count": null,
      "outputs": []
    },
    {
      "cell_type": "code",
      "metadata": {
        "id": "wKzfxyPTjpd0"
      },
      "source": [
        "import random"
      ],
      "execution_count": null,
      "outputs": []
    },
    {
      "cell_type": "markdown",
      "metadata": {
        "id": "LpaYQeoWaKEQ"
      },
      "source": [
        "**np.random.random()**"
      ]
    },
    {
      "cell_type": "code",
      "metadata": {
        "colab": {
          "base_uri": "https://localhost:8080/"
        },
        "id": "z3PKtX0Ck2Nf",
        "outputId": "80fd9129-af84-4f6e-a66c-3ae4a33003db"
      },
      "source": [
        "np.random.random(1)"
      ],
      "execution_count": null,
      "outputs": [
        {
          "output_type": "execute_result",
          "data": {
            "text/plain": [
              "array([0.34791613])"
            ]
          },
          "metadata": {
            "tags": []
          },
          "execution_count": 3
        }
      ]
    },
    {
      "cell_type": "code",
      "metadata": {
        "colab": {
          "base_uri": "https://localhost:8080/"
        },
        "id": "DELNkBl3lk2h",
        "outputId": "822e6c97-505e-4784-c29a-751e3d43c58a"
      },
      "source": [
        "np.random.random((3,3))"
      ],
      "execution_count": null,
      "outputs": [
        {
          "output_type": "execute_result",
          "data": {
            "text/plain": [
              "array([[0.94215559, 0.10459942, 0.18181019],\n",
              "       [0.77712091, 0.82935102, 0.37672382],\n",
              "       [0.11479258, 0.37261105, 0.53777758]])"
            ]
          },
          "metadata": {
            "tags": []
          },
          "execution_count": 4
        }
      ]
    },
    {
      "cell_type": "markdown",
      "metadata": {
        "id": "kSW66__ZaMUH"
      },
      "source": [
        "**np.random.randint()**"
      ]
    },
    {
      "cell_type": "code",
      "metadata": {
        "colab": {
          "base_uri": "https://localhost:8080/"
        },
        "id": "Xy7GtnlAl_Hf",
        "outputId": "544c219f-d6e3-41f4-d4bf-60d8d9c03f59"
      },
      "source": [
        "np.random.randint(1,4)"
      ],
      "execution_count": null,
      "outputs": [
        {
          "output_type": "execute_result",
          "data": {
            "text/plain": [
              "1"
            ]
          },
          "metadata": {
            "tags": []
          },
          "execution_count": 5
        }
      ]
    },
    {
      "cell_type": "code",
      "metadata": {
        "colab": {
          "base_uri": "https://localhost:8080/"
        },
        "id": "Oda1GSLYmdvi",
        "outputId": "be103ce0-2b9e-45d4-8c1e-8beccb6d8018"
      },
      "source": [
        "np.random.randint(1,4,(4,4))"
      ],
      "execution_count": null,
      "outputs": [
        {
          "output_type": "execute_result",
          "data": {
            "text/plain": [
              "array([[1, 1, 2, 2],\n",
              "       [3, 1, 1, 3],\n",
              "       [3, 1, 2, 1],\n",
              "       [2, 1, 2, 1]])"
            ]
          },
          "metadata": {
            "tags": []
          },
          "execution_count": 7
        }
      ]
    },
    {
      "cell_type": "code",
      "metadata": {
        "colab": {
          "base_uri": "https://localhost:8080/"
        },
        "id": "P-xaXT8FmjNZ",
        "outputId": "969e733e-7643-4fe7-c7fb-437f2d00e3f7"
      },
      "source": [
        "np.random.randint(1,4,(2,4,4))"
      ],
      "execution_count": null,
      "outputs": [
        {
          "output_type": "execute_result",
          "data": {
            "text/plain": [
              "array([[[3, 3, 2, 3],\n",
              "        [3, 3, 2, 2],\n",
              "        [2, 1, 1, 2],\n",
              "        [2, 2, 1, 1]],\n",
              "\n",
              "       [[1, 3, 1, 1],\n",
              "        [1, 1, 3, 2],\n",
              "        [1, 2, 1, 1],\n",
              "        [2, 2, 3, 3]]])"
            ]
          },
          "metadata": {
            "tags": []
          },
          "execution_count": 8
        }
      ]
    },
    {
      "cell_type": "code",
      "metadata": {
        "colab": {
          "base_uri": "https://localhost:8080/"
        },
        "id": "WTV1CaA0m3K5",
        "outputId": "35f8c955-af5c-439a-9e50-c803f6470cbc"
      },
      "source": [
        "np.random.randint(1,4,(3,4,4))"
      ],
      "execution_count": null,
      "outputs": [
        {
          "output_type": "execute_result",
          "data": {
            "text/plain": [
              "array([[[2, 3, 3, 3],\n",
              "        [3, 2, 1, 2],\n",
              "        [3, 1, 2, 2],\n",
              "        [3, 1, 3, 3]],\n",
              "\n",
              "       [[3, 1, 3, 1],\n",
              "        [2, 3, 2, 2],\n",
              "        [3, 2, 1, 2],\n",
              "        [1, 3, 1, 1]],\n",
              "\n",
              "       [[3, 3, 2, 3],\n",
              "        [2, 1, 2, 1],\n",
              "        [3, 1, 2, 3],\n",
              "        [3, 3, 1, 3]]])"
            ]
          },
          "metadata": {
            "tags": []
          },
          "execution_count": 9
        }
      ]
    },
    {
      "cell_type": "markdown",
      "metadata": {
        "id": "fkqjkpsqaY5y"
      },
      "source": [
        "**np.random.seed()**"
      ]
    },
    {
      "cell_type": "code",
      "metadata": {
        "colab": {
          "base_uri": "https://localhost:8080/"
        },
        "id": "PZS2h-lwm6qC",
        "outputId": "2a23c5cc-dccf-4fdf-ee79-e1ee5f4eb723"
      },
      "source": [
        "np.random.seed(10)\r\n",
        "np.random.randint(1,4,(2,4,4))"
      ],
      "execution_count": null,
      "outputs": [
        {
          "output_type": "execute_result",
          "data": {
            "text/plain": [
              "array([[[2, 2, 1, 1],\n",
              "        [2, 1, 2, 2],\n",
              "        [1, 2, 2, 3],\n",
              "        [1, 2, 1, 3]],\n",
              "\n",
              "       [[1, 3, 1, 1],\n",
              "        [1, 3, 1, 3],\n",
              "        [3, 2, 1, 1],\n",
              "        [3, 2, 3, 2]]])"
            ]
          },
          "metadata": {
            "tags": []
          },
          "execution_count": 10
        }
      ]
    },
    {
      "cell_type": "code",
      "metadata": {
        "colab": {
          "base_uri": "https://localhost:8080/"
        },
        "id": "qs1JJO1vnnaR",
        "outputId": "d2dfe648-1403-4c00-e56f-e401c2aeb158"
      },
      "source": [
        "np.random.seed(10)\r\n",
        "np.random.randint(1,4,(2,4,4))"
      ],
      "execution_count": null,
      "outputs": [
        {
          "output_type": "execute_result",
          "data": {
            "text/plain": [
              "array([[[2, 2, 1, 1],\n",
              "        [2, 1, 2, 2],\n",
              "        [1, 2, 2, 3],\n",
              "        [1, 2, 1, 3]],\n",
              "\n",
              "       [[1, 3, 1, 1],\n",
              "        [1, 3, 1, 3],\n",
              "        [3, 2, 1, 1],\n",
              "        [3, 2, 3, 2]]])"
            ]
          },
          "metadata": {
            "tags": []
          },
          "execution_count": 11
        }
      ]
    },
    {
      "cell_type": "markdown",
      "metadata": {
        "id": "brWfuT8vac9g"
      },
      "source": [
        "**np.random.rand()**"
      ]
    },
    {
      "cell_type": "code",
      "metadata": {
        "colab": {
          "base_uri": "https://localhost:8080/"
        },
        "id": "q7WggUEVntA2",
        "outputId": "7d188803-6d09-48dd-bbe7-3195b1f74e1d"
      },
      "source": [
        "np.random.rand(3)"
      ],
      "execution_count": null,
      "outputs": [
        {
          "output_type": "execute_result",
          "data": {
            "text/plain": [
              "array([0.13145815, 0.41366737, 0.77872881])"
            ]
          },
          "metadata": {
            "tags": []
          },
          "execution_count": 12
        }
      ]
    },
    {
      "cell_type": "code",
      "metadata": {
        "colab": {
          "base_uri": "https://localhost:8080/"
        },
        "id": "mdhHseFYoUJT",
        "outputId": "6d406ebc-a861-4844-f204-148c6fa138bf"
      },
      "source": [
        "np.random.rand(3,3)"
      ],
      "execution_count": null,
      "outputs": [
        {
          "output_type": "execute_result",
          "data": {
            "text/plain": [
              "array([[0.58390137, 0.18263144, 0.82608225],\n",
              "       [0.10540183, 0.28357668, 0.06556327],\n",
              "       [0.05644419, 0.76545582, 0.01178803]])"
            ]
          },
          "metadata": {
            "tags": []
          },
          "execution_count": 13
        }
      ]
    },
    {
      "cell_type": "markdown",
      "metadata": {
        "id": "yAYdEfnPafuf"
      },
      "source": [
        "**np.random.randn()**"
      ]
    },
    {
      "cell_type": "code",
      "metadata": {
        "colab": {
          "base_uri": "https://localhost:8080/"
        },
        "id": "Ers2ZTGvoWne",
        "outputId": "e585f966-fc55-427f-d136-0cb9436d87d1"
      },
      "source": [
        "np.random.randn(3,3)"
      ],
      "execution_count": null,
      "outputs": [
        {
          "output_type": "execute_result",
          "data": {
            "text/plain": [
              "array([[-1.58494101,  1.05535316, -1.92657911],\n",
              "       [ 0.69858388, -0.74620143, -0.15662666],\n",
              "       [-0.19363594,  1.13912535,  0.36221796]])"
            ]
          },
          "metadata": {
            "tags": []
          },
          "execution_count": 14
        }
      ]
    },
    {
      "cell_type": "markdown",
      "metadata": {
        "id": "VpHJL8McajYJ"
      },
      "source": [
        "**np.random.choice()**"
      ]
    },
    {
      "cell_type": "code",
      "metadata": {
        "colab": {
          "base_uri": "https://localhost:8080/"
        },
        "id": "MtUkO01rogDr",
        "outputId": "12ed882d-ad6f-44a2-9504-97ddc49d96e2"
      },
      "source": [
        "x=[1,2,3,4]\r\n",
        "np.random.choice(x)"
      ],
      "execution_count": null,
      "outputs": [
        {
          "output_type": "execute_result",
          "data": {
            "text/plain": [
              "1"
            ]
          },
          "metadata": {
            "tags": []
          },
          "execution_count": 15
        }
      ]
    },
    {
      "cell_type": "code",
      "metadata": {
        "colab": {
          "base_uri": "https://localhost:8080/"
        },
        "id": "iXhcoz30pGIX",
        "outputId": "88c9e613-6b3f-4512-b32e-d110de64177e"
      },
      "source": [
        "for i in range(10):\r\n",
        "  print(np.random.choice(x))"
      ],
      "execution_count": null,
      "outputs": [
        {
          "output_type": "stream",
          "text": [
            "3\n",
            "3\n",
            "4\n",
            "1\n",
            "1\n",
            "1\n",
            "1\n",
            "3\n",
            "3\n",
            "2\n"
          ],
          "name": "stdout"
        }
      ]
    },
    {
      "cell_type": "markdown",
      "metadata": {
        "id": "LUhJp5_taqU6"
      },
      "source": [
        "**np.random.permutation()**"
      ]
    },
    {
      "cell_type": "code",
      "metadata": {
        "colab": {
          "base_uri": "https://localhost:8080/"
        },
        "id": "YcHt24HPpSAD",
        "outputId": "28883601-1f56-42c9-e32f-cdc05a0a2fa0"
      },
      "source": [
        "np.random.permutation(x)"
      ],
      "execution_count": null,
      "outputs": [
        {
          "output_type": "execute_result",
          "data": {
            "text/plain": [
              "array([4, 3, 1, 2])"
            ]
          },
          "metadata": {
            "tags": []
          },
          "execution_count": 18
        }
      ]
    },
    {
      "cell_type": "code",
      "metadata": {
        "colab": {
          "base_uri": "https://localhost:8080/"
        },
        "id": "buP8B6fnpiVi",
        "outputId": "62a6a1b4-263c-4ea9-f303-2188ef935c49"
      },
      "source": [
        "np.random.permutation(x)"
      ],
      "execution_count": null,
      "outputs": [
        {
          "output_type": "execute_result",
          "data": {
            "text/plain": [
              "array([1, 4, 2, 3])"
            ]
          },
          "metadata": {
            "tags": []
          },
          "execution_count": 19
        }
      ]
    },
    {
      "cell_type": "code",
      "metadata": {
        "id": "IIyIQzpFppdl"
      },
      "source": [
        ""
      ],
      "execution_count": null,
      "outputs": []
    }
  ]
}