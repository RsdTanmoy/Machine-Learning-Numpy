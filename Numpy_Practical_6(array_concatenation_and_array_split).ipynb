{
  "nbformat": 4,
  "nbformat_minor": 0,
  "metadata": {
    "colab": {
      "name": "Numpy Practical_6(array concatenation and array split).ipynb",
      "provenance": [],
      "collapsed_sections": [],
      "authorship_tag": "ABX9TyNUSKGU3rpatPK/3JW8eyTh",
      "include_colab_link": true
    },
    "kernelspec": {
      "name": "python3",
      "display_name": "Python 3"
    }
  },
  "cells": [
    {
      "cell_type": "markdown",
      "metadata": {
        "id": "view-in-github",
        "colab_type": "text"
      },
      "source": [
        "<a href=\"https://colab.research.google.com/github/RsdTanmoy/Machine-Learning-Numpy/blob/main/Numpy_Practical_6(array_concatenation_and_array_split).ipynb\" target=\"_parent\"><img src=\"https://colab.research.google.com/assets/colab-badge.svg\" alt=\"Open In Colab\"/></a>"
      ]
    },
    {
      "cell_type": "markdown",
      "metadata": {
        "id": "spAAqD2JNl7g"
      },
      "source": [
        "**Numpy Array Concatenation and Split**"
      ]
    },
    {
      "cell_type": "code",
      "metadata": {
        "id": "P_zq_OWGNI70"
      },
      "source": [
        "import numpy as np"
      ],
      "execution_count": null,
      "outputs": []
    },
    {
      "cell_type": "code",
      "metadata": {
        "colab": {
          "base_uri": "https://localhost:8080/"
        },
        "id": "kVnPkhX0NzOp",
        "outputId": "3b5a6ca1-29c9-40a7-a1a9-53f0bc934c3e"
      },
      "source": [
        "arr_1 = np.arange(1,17).reshape(4,4)\r\n",
        "print(arr_1)"
      ],
      "execution_count": null,
      "outputs": [
        {
          "output_type": "stream",
          "text": [
            "[[ 1  2  3  4]\n",
            " [ 5  6  7  8]\n",
            " [ 9 10 11 12]\n",
            " [13 14 15 16]]\n"
          ],
          "name": "stdout"
        }
      ]
    },
    {
      "cell_type": "code",
      "metadata": {
        "colab": {
          "base_uri": "https://localhost:8080/"
        },
        "id": "DjMU12aOOI1R",
        "outputId": "afab8d9d-d2bc-4d0c-b7b8-93cba6e137f7"
      },
      "source": [
        "arr_2 = np.arange(17,33).reshape(4,4)\r\n",
        "print(arr_2)"
      ],
      "execution_count": null,
      "outputs": [
        {
          "output_type": "stream",
          "text": [
            "[[17 18 19 20]\n",
            " [21 22 23 24]\n",
            " [25 26 27 28]\n",
            " [29 30 31 32]]\n"
          ],
          "name": "stdout"
        }
      ]
    },
    {
      "cell_type": "markdown",
      "metadata": {
        "id": "4tS1WSm7ZKHy"
      },
      "source": [
        "**NumPy concatenate - np.concatenate()**"
      ]
    },
    {
      "cell_type": "code",
      "metadata": {
        "colab": {
          "base_uri": "https://localhost:8080/"
        },
        "id": "gpohVTEgOgp-",
        "outputId": "2e6de762-0131-4d26-8ef3-4879b881852c"
      },
      "source": [
        "np.concatenate((arr_1,arr_2))"
      ],
      "execution_count": null,
      "outputs": [
        {
          "output_type": "execute_result",
          "data": {
            "text/plain": [
              "array([[ 1,  2,  3,  4],\n",
              "       [ 5,  6,  7,  8],\n",
              "       [ 9, 10, 11, 12],\n",
              "       [13, 14, 15, 16],\n",
              "       [17, 18, 19, 20],\n",
              "       [21, 22, 23, 24],\n",
              "       [25, 26, 27, 28],\n",
              "       [29, 30, 31, 32]])"
            ]
          },
          "metadata": {
            "tags": []
          },
          "execution_count": 4
        }
      ]
    },
    {
      "cell_type": "code",
      "metadata": {
        "colab": {
          "base_uri": "https://localhost:8080/"
        },
        "id": "9jzR0kMkPvMX",
        "outputId": "34f7eb41-b338-45a3-f8a0-ff2620dd52c6"
      },
      "source": [
        "np.concatenate((arr_1,arr_2), axis=0) "
      ],
      "execution_count": null,
      "outputs": [
        {
          "output_type": "execute_result",
          "data": {
            "text/plain": [
              "array([[ 1,  2,  3,  4],\n",
              "       [ 5,  6,  7,  8],\n",
              "       [ 9, 10, 11, 12],\n",
              "       [13, 14, 15, 16],\n",
              "       [17, 18, 19, 20],\n",
              "       [21, 22, 23, 24],\n",
              "       [25, 26, 27, 28],\n",
              "       [29, 30, 31, 32]])"
            ]
          },
          "metadata": {
            "tags": []
          },
          "execution_count": 5
        }
      ]
    },
    {
      "cell_type": "code",
      "metadata": {
        "colab": {
          "base_uri": "https://localhost:8080/"
        },
        "id": "67xcTLtQQfcU",
        "outputId": "eca5f8fa-03c6-467f-a84e-2151f255ef55"
      },
      "source": [
        "np.concatenate((arr_1,arr_2), axis=1)"
      ],
      "execution_count": null,
      "outputs": [
        {
          "output_type": "execute_result",
          "data": {
            "text/plain": [
              "array([[ 1,  2,  3,  4, 17, 18, 19, 20],\n",
              "       [ 5,  6,  7,  8, 21, 22, 23, 24],\n",
              "       [ 9, 10, 11, 12, 25, 26, 27, 28],\n",
              "       [13, 14, 15, 16, 29, 30, 31, 32]])"
            ]
          },
          "metadata": {
            "tags": []
          },
          "execution_count": 6
        }
      ]
    },
    {
      "cell_type": "markdown",
      "metadata": {
        "id": "ivCyCPrrZPLd"
      },
      "source": [
        "**NumPy vstack - np.vstack()**"
      ]
    },
    {
      "cell_type": "code",
      "metadata": {
        "colab": {
          "base_uri": "https://localhost:8080/"
        },
        "id": "b1AjlAV3Qigw",
        "outputId": "a2202c97-c92b-48e9-8696-fb7fd65024be"
      },
      "source": [
        "np.vstack((arr_1,arr_2))"
      ],
      "execution_count": null,
      "outputs": [
        {
          "output_type": "execute_result",
          "data": {
            "text/plain": [
              "array([[ 1,  2,  3,  4],\n",
              "       [ 5,  6,  7,  8],\n",
              "       [ 9, 10, 11, 12],\n",
              "       [13, 14, 15, 16],\n",
              "       [17, 18, 19, 20],\n",
              "       [21, 22, 23, 24],\n",
              "       [25, 26, 27, 28],\n",
              "       [29, 30, 31, 32]])"
            ]
          },
          "metadata": {
            "tags": []
          },
          "execution_count": 7
        }
      ]
    },
    {
      "cell_type": "markdown",
      "metadata": {
        "id": "tg1P5WGDZVSZ"
      },
      "source": [
        "**NumPy hstack - np.hstack()**"
      ]
    },
    {
      "cell_type": "code",
      "metadata": {
        "colab": {
          "base_uri": "https://localhost:8080/"
        },
        "id": "JNGGzJ46RAXZ",
        "outputId": "372571ee-946c-47f1-fb2d-b6d29ed24e20"
      },
      "source": [
        "np.hstack((arr_1,arr_2))"
      ],
      "execution_count": null,
      "outputs": [
        {
          "output_type": "execute_result",
          "data": {
            "text/plain": [
              "array([[ 1,  2,  3,  4, 17, 18, 19, 20],\n",
              "       [ 5,  6,  7,  8, 21, 22, 23, 24],\n",
              "       [ 9, 10, 11, 12, 25, 26, 27, 28],\n",
              "       [13, 14, 15, 16, 29, 30, 31, 32]])"
            ]
          },
          "metadata": {
            "tags": []
          },
          "execution_count": 8
        }
      ]
    },
    {
      "cell_type": "code",
      "metadata": {
        "colab": {
          "base_uri": "https://localhost:8080/"
        },
        "id": "JPkcamx7RG96",
        "outputId": "41d377ad-a15f-4732-bb12-d8c4a2299993"
      },
      "source": [
        "np.hstack((arr_1,arr_2,arr_1))"
      ],
      "execution_count": null,
      "outputs": [
        {
          "output_type": "execute_result",
          "data": {
            "text/plain": [
              "array([[ 1,  2,  3,  4, 17, 18, 19, 20,  1,  2,  3,  4],\n",
              "       [ 5,  6,  7,  8, 21, 22, 23, 24,  5,  6,  7,  8],\n",
              "       [ 9, 10, 11, 12, 25, 26, 27, 28,  9, 10, 11, 12],\n",
              "       [13, 14, 15, 16, 29, 30, 31, 32, 13, 14, 15, 16]])"
            ]
          },
          "metadata": {
            "tags": []
          },
          "execution_count": 9
        }
      ]
    },
    {
      "cell_type": "markdown",
      "metadata": {
        "id": "cOnwLoGyZbXT"
      },
      "source": [
        "**NumPy split - np.split()**"
      ]
    },
    {
      "cell_type": "code",
      "metadata": {
        "colab": {
          "base_uri": "https://localhost:8080/"
        },
        "id": "LQK5hncwRb6q",
        "outputId": "907d8ea4-fd57-4d68-e517-0e687b13feeb"
      },
      "source": [
        "arr_1"
      ],
      "execution_count": null,
      "outputs": [
        {
          "output_type": "execute_result",
          "data": {
            "text/plain": [
              "array([[ 1,  2,  3,  4],\n",
              "       [ 5,  6,  7,  8],\n",
              "       [ 9, 10, 11, 12],\n",
              "       [13, 14, 15, 16]])"
            ]
          },
          "metadata": {
            "tags": []
          },
          "execution_count": 10
        }
      ]
    },
    {
      "cell_type": "code",
      "metadata": {
        "colab": {
          "base_uri": "https://localhost:8080/"
        },
        "id": "HeYe3FFVSMlL",
        "outputId": "175b3c14-56b4-4d62-a382-803314eb9a2b"
      },
      "source": [
        "np.split(arr_1,2)"
      ],
      "execution_count": null,
      "outputs": [
        {
          "output_type": "execute_result",
          "data": {
            "text/plain": [
              "[array([[1, 2, 3, 4],\n",
              "        [5, 6, 7, 8]]), array([[ 9, 10, 11, 12],\n",
              "        [13, 14, 15, 16]])]"
            ]
          },
          "metadata": {
            "tags": []
          },
          "execution_count": 11
        }
      ]
    },
    {
      "cell_type": "code",
      "metadata": {
        "colab": {
          "base_uri": "https://localhost:8080/"
        },
        "id": "UPNDnZrJSRIp",
        "outputId": "31e0d8af-8140-49bb-af6d-187cb0a9dca1"
      },
      "source": [
        "np.split(arr_1,4)"
      ],
      "execution_count": null,
      "outputs": [
        {
          "output_type": "execute_result",
          "data": {
            "text/plain": [
              "[array([[1, 2, 3, 4]]),\n",
              " array([[5, 6, 7, 8]]),\n",
              " array([[ 9, 10, 11, 12]]),\n",
              " array([[13, 14, 15, 16]])]"
            ]
          },
          "metadata": {
            "tags": []
          },
          "execution_count": 12
        }
      ]
    },
    {
      "cell_type": "code",
      "metadata": {
        "colab": {
          "base_uri": "https://localhost:8080/"
        },
        "id": "0ljXNV4ySU5M",
        "outputId": "eeb511c7-e599-4064-fa7d-42cb8a9c34e6"
      },
      "source": [
        "np.split(arr_1,2,axis=0)"
      ],
      "execution_count": null,
      "outputs": [
        {
          "output_type": "execute_result",
          "data": {
            "text/plain": [
              "[array([[1, 2, 3, 4],\n",
              "        [5, 6, 7, 8]]), array([[ 9, 10, 11, 12],\n",
              "        [13, 14, 15, 16]])]"
            ]
          },
          "metadata": {
            "tags": []
          },
          "execution_count": 13
        }
      ]
    },
    {
      "cell_type": "code",
      "metadata": {
        "colab": {
          "base_uri": "https://localhost:8080/"
        },
        "id": "hqve9yRBTANs",
        "outputId": "9ae0606f-f9b8-4c57-841f-e3744a34518d"
      },
      "source": [
        "np.split(arr_1,2,axis=1)"
      ],
      "execution_count": null,
      "outputs": [
        {
          "output_type": "execute_result",
          "data": {
            "text/plain": [
              "[array([[ 1,  2],\n",
              "        [ 5,  6],\n",
              "        [ 9, 10],\n",
              "        [13, 14]]), array([[ 3,  4],\n",
              "        [ 7,  8],\n",
              "        [11, 12],\n",
              "        [15, 16]])]"
            ]
          },
          "metadata": {
            "tags": []
          },
          "execution_count": 14
        }
      ]
    },
    {
      "cell_type": "code",
      "metadata": {
        "colab": {
          "base_uri": "https://localhost:8080/"
        },
        "id": "IjrL-ADVTDcm",
        "outputId": "5fb78772-6a20-44ff-d71e-9320d7f8615d"
      },
      "source": [
        "d1=np.array([4,7,1,3,9])\r\n",
        "print(d1)"
      ],
      "execution_count": null,
      "outputs": [
        {
          "output_type": "stream",
          "text": [
            "[4 7 1 3 9]\n"
          ],
          "name": "stdout"
        }
      ]
    },
    {
      "cell_type": "code",
      "metadata": {
        "colab": {
          "base_uri": "https://localhost:8080/"
        },
        "id": "nkoFHgvWTWAL",
        "outputId": "c60ae049-e616-4826-8e94-d5c75ea8ed4c"
      },
      "source": [
        "np.split(d1,[1,3])"
      ],
      "execution_count": null,
      "outputs": [
        {
          "output_type": "execute_result",
          "data": {
            "text/plain": [
              "[array([4]), array([7, 1]), array([3, 9])]"
            ]
          },
          "metadata": {
            "tags": []
          },
          "execution_count": 20
        }
      ]
    },
    {
      "cell_type": "code",
      "metadata": {
        "id": "m0z0eZG3T0Lm"
      },
      "source": [
        ""
      ],
      "execution_count": null,
      "outputs": []
    }
  ]
}